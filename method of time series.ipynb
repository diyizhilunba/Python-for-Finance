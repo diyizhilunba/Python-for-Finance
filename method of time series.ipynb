{
 "cells": [
  {
   "cell_type": "code",
   "execution_count": 1,
   "id": "b76395aa",
   "metadata": {},
   "outputs": [
    {
     "name": "stdout",
     "output_type": "stream",
     "text": [
      "Requirement already satisfied: pmdarima in /opt/anaconda3/lib/python3.11/site-packages (2.0.4)\n",
      "Requirement already satisfied: joblib>=0.11 in /opt/anaconda3/lib/python3.11/site-packages (from pmdarima) (1.2.0)\n",
      "Requirement already satisfied: Cython!=0.29.18,!=0.29.31,>=0.29 in /opt/anaconda3/lib/python3.11/site-packages (from pmdarima) (3.0.10)\n",
      "Requirement already satisfied: numpy>=1.21.2 in /opt/anaconda3/lib/python3.11/site-packages (from pmdarima) (1.26.4)\n",
      "Requirement already satisfied: pandas>=0.19 in /opt/anaconda3/lib/python3.11/site-packages (from pmdarima) (2.1.4)\n",
      "Requirement already satisfied: scikit-learn>=0.22 in /opt/anaconda3/lib/python3.11/site-packages (from pmdarima) (1.2.2)\n",
      "Requirement already satisfied: scipy>=1.3.2 in /opt/anaconda3/lib/python3.11/site-packages (from pmdarima) (1.11.4)\n",
      "Requirement already satisfied: statsmodels>=0.13.2 in /opt/anaconda3/lib/python3.11/site-packages (from pmdarima) (0.14.0)\n",
      "Requirement already satisfied: urllib3 in /opt/anaconda3/lib/python3.11/site-packages (from pmdarima) (2.0.7)\n",
      "Requirement already satisfied: setuptools!=50.0.0,>=38.6.0 in /opt/anaconda3/lib/python3.11/site-packages (from pmdarima) (68.2.2)\n",
      "Requirement already satisfied: packaging>=17.1 in /opt/anaconda3/lib/python3.11/site-packages (from pmdarima) (23.1)\n",
      "Requirement already satisfied: python-dateutil>=2.8.2 in /opt/anaconda3/lib/python3.11/site-packages (from pandas>=0.19->pmdarima) (2.8.2)\n",
      "Requirement already satisfied: pytz>=2020.1 in /opt/anaconda3/lib/python3.11/site-packages (from pandas>=0.19->pmdarima) (2023.3.post1)\n",
      "Requirement already satisfied: tzdata>=2022.1 in /opt/anaconda3/lib/python3.11/site-packages (from pandas>=0.19->pmdarima) (2023.3)\n",
      "Requirement already satisfied: threadpoolctl>=2.0.0 in /opt/anaconda3/lib/python3.11/site-packages (from scikit-learn>=0.22->pmdarima) (2.2.0)\n",
      "Requirement already satisfied: patsy>=0.5.2 in /opt/anaconda3/lib/python3.11/site-packages (from statsmodels>=0.13.2->pmdarima) (0.5.3)\n",
      "Requirement already satisfied: six in /opt/anaconda3/lib/python3.11/site-packages (from patsy>=0.5.2->statsmodels>=0.13.2->pmdarima) (1.16.0)\n",
      "Note: you may need to restart the kernel to use updated packages.\n"
     ]
    }
   ],
   "source": [
    "pip install pmdarima"
   ]
  },
  {
   "cell_type": "code",
   "execution_count": 2,
   "id": "e4a50123",
   "metadata": {},
   "outputs": [],
   "source": [
    "import yfinance as yf\n",
    "import numpy as np\n",
    "import pandas as pd\n",
    "import matplotlib.pyplot as plt\n",
    "from statsmodels.tsa.arima.model import ARIMA\n",
    "import pmdarima as pm\n",
    "from statsmodels.tsa.statespace.sarimax import SARIMAX\n",
    "from sklearn.metrics import mean_squared_error"
   ]
  },
  {
   "cell_type": "code",
   "execution_count": 3,
   "id": "51582f3d",
   "metadata": {},
   "outputs": [
    {
     "name": "stderr",
     "output_type": "stream",
     "text": [
      "[*********************100%%**********************]  7 of 7 completed"
     ]
    },
    {
     "name": "stdout",
     "output_type": "stream",
     "text": [
      "Downloaded 2114 rows of data.\n"
     ]
    },
    {
     "name": "stderr",
     "output_type": "stream",
     "text": [
      "\n"
     ]
    },
    {
     "data": {
      "text/html": [
       "<div>\n",
       "<style scoped>\n",
       "    .dataframe tbody tr th:only-of-type {\n",
       "        vertical-align: middle;\n",
       "    }\n",
       "\n",
       "    .dataframe tbody tr th {\n",
       "        vertical-align: top;\n",
       "    }\n",
       "\n",
       "    .dataframe thead tr th {\n",
       "        text-align: left;\n",
       "    }\n",
       "\n",
       "    .dataframe thead tr:last-of-type th {\n",
       "        text-align: right;\n",
       "    }\n",
       "</style>\n",
       "<table border=\"1\" class=\"dataframe\">\n",
       "  <thead>\n",
       "    <tr>\n",
       "      <th>Price</th>\n",
       "      <th colspan=\"7\" halign=\"left\">Adj Close</th>\n",
       "      <th colspan=\"3\" halign=\"left\">Close</th>\n",
       "      <th>...</th>\n",
       "      <th colspan=\"3\" halign=\"left\">Open</th>\n",
       "      <th colspan=\"7\" halign=\"left\">Volume</th>\n",
       "    </tr>\n",
       "    <tr>\n",
       "      <th>Ticker</th>\n",
       "      <th>AAPL</th>\n",
       "      <th>AMZN</th>\n",
       "      <th>GOOGL</th>\n",
       "      <th>META</th>\n",
       "      <th>MSFT</th>\n",
       "      <th>NVDA</th>\n",
       "      <th>TSLA</th>\n",
       "      <th>AAPL</th>\n",
       "      <th>AMZN</th>\n",
       "      <th>GOOGL</th>\n",
       "      <th>...</th>\n",
       "      <th>MSFT</th>\n",
       "      <th>NVDA</th>\n",
       "      <th>TSLA</th>\n",
       "      <th>AAPL</th>\n",
       "      <th>AMZN</th>\n",
       "      <th>GOOGL</th>\n",
       "      <th>META</th>\n",
       "      <th>MSFT</th>\n",
       "      <th>NVDA</th>\n",
       "      <th>TSLA</th>\n",
       "    </tr>\n",
       "    <tr>\n",
       "      <th>Date</th>\n",
       "      <th></th>\n",
       "      <th></th>\n",
       "      <th></th>\n",
       "      <th></th>\n",
       "      <th></th>\n",
       "      <th></th>\n",
       "      <th></th>\n",
       "      <th></th>\n",
       "      <th></th>\n",
       "      <th></th>\n",
       "      <th></th>\n",
       "      <th></th>\n",
       "      <th></th>\n",
       "      <th></th>\n",
       "      <th></th>\n",
       "      <th></th>\n",
       "      <th></th>\n",
       "      <th></th>\n",
       "      <th></th>\n",
       "      <th></th>\n",
       "      <th></th>\n",
       "    </tr>\n",
       "  </thead>\n",
       "  <tbody>\n",
       "    <tr>\n",
       "      <th>2016-01-04</th>\n",
       "      <td>23.914484</td>\n",
       "      <td>31.849501</td>\n",
       "      <td>37.972000</td>\n",
       "      <td>102.111656</td>\n",
       "      <td>48.521469</td>\n",
       "      <td>7.899905</td>\n",
       "      <td>14.894000</td>\n",
       "      <td>26.337500</td>\n",
       "      <td>31.849501</td>\n",
       "      <td>37.972000</td>\n",
       "      <td>...</td>\n",
       "      <td>54.320000</td>\n",
       "      <td>8.0725</td>\n",
       "      <td>15.381333</td>\n",
       "      <td>270597600</td>\n",
       "      <td>186290000</td>\n",
       "      <td>67382000</td>\n",
       "      <td>37912400</td>\n",
       "      <td>53778000</td>\n",
       "      <td>35807600</td>\n",
       "      <td>102406500</td>\n",
       "    </tr>\n",
       "    <tr>\n",
       "      <th>2016-01-05</th>\n",
       "      <td>23.315205</td>\n",
       "      <td>31.689501</td>\n",
       "      <td>38.076500</td>\n",
       "      <td>102.621124</td>\n",
       "      <td>48.742840</td>\n",
       "      <td>8.026812</td>\n",
       "      <td>14.895333</td>\n",
       "      <td>25.677500</td>\n",
       "      <td>31.689501</td>\n",
       "      <td>38.076500</td>\n",
       "      <td>...</td>\n",
       "      <td>54.930000</td>\n",
       "      <td>8.2450</td>\n",
       "      <td>15.090667</td>\n",
       "      <td>223164000</td>\n",
       "      <td>116452000</td>\n",
       "      <td>45216000</td>\n",
       "      <td>23258200</td>\n",
       "      <td>34079700</td>\n",
       "      <td>49027200</td>\n",
       "      <td>47802000</td>\n",
       "    </tr>\n",
       "    <tr>\n",
       "      <th>2016-01-06</th>\n",
       "      <td>22.858932</td>\n",
       "      <td>31.632500</td>\n",
       "      <td>37.966499</td>\n",
       "      <td>102.860863</td>\n",
       "      <td>47.857407</td>\n",
       "      <td>7.694906</td>\n",
       "      <td>14.602667</td>\n",
       "      <td>25.174999</td>\n",
       "      <td>31.632500</td>\n",
       "      <td>37.966499</td>\n",
       "      <td>...</td>\n",
       "      <td>54.320000</td>\n",
       "      <td>8.0875</td>\n",
       "      <td>14.666667</td>\n",
       "      <td>273829600</td>\n",
       "      <td>106584000</td>\n",
       "      <td>48206000</td>\n",
       "      <td>25096200</td>\n",
       "      <td>39518900</td>\n",
       "      <td>44934400</td>\n",
       "      <td>56686500</td>\n",
       "    </tr>\n",
       "    <tr>\n",
       "      <th>2016-01-07</th>\n",
       "      <td>21.894178</td>\n",
       "      <td>30.396999</td>\n",
       "      <td>37.049999</td>\n",
       "      <td>97.816216</td>\n",
       "      <td>46.192799</td>\n",
       "      <td>7.389841</td>\n",
       "      <td>14.376667</td>\n",
       "      <td>24.112499</td>\n",
       "      <td>30.396999</td>\n",
       "      <td>37.049999</td>\n",
       "      <td>...</td>\n",
       "      <td>52.700001</td>\n",
       "      <td>7.6850</td>\n",
       "      <td>14.279333</td>\n",
       "      <td>324377600</td>\n",
       "      <td>141498000</td>\n",
       "      <td>63132000</td>\n",
       "      <td>45172900</td>\n",
       "      <td>56564900</td>\n",
       "      <td>64530400</td>\n",
       "      <td>53314500</td>\n",
       "    </tr>\n",
       "    <tr>\n",
       "      <th>2016-01-08</th>\n",
       "      <td>22.009949</td>\n",
       "      <td>30.352501</td>\n",
       "      <td>36.545502</td>\n",
       "      <td>97.226845</td>\n",
       "      <td>46.334480</td>\n",
       "      <td>7.231209</td>\n",
       "      <td>14.066667</td>\n",
       "      <td>24.240000</td>\n",
       "      <td>30.352501</td>\n",
       "      <td>36.545502</td>\n",
       "      <td>...</td>\n",
       "      <td>52.369999</td>\n",
       "      <td>7.6675</td>\n",
       "      <td>14.524000</td>\n",
       "      <td>283192000</td>\n",
       "      <td>110258000</td>\n",
       "      <td>47506000</td>\n",
       "      <td>35402300</td>\n",
       "      <td>48754000</td>\n",
       "      <td>39847200</td>\n",
       "      <td>54421500</td>\n",
       "    </tr>\n",
       "  </tbody>\n",
       "</table>\n",
       "<p>5 rows × 42 columns</p>\n",
       "</div>"
      ],
      "text/plain": [
       "Price       Adj Close                                                         \\\n",
       "Ticker           AAPL       AMZN      GOOGL        META       MSFT      NVDA   \n",
       "Date                                                                           \n",
       "2016-01-04  23.914484  31.849501  37.972000  102.111656  48.521469  7.899905   \n",
       "2016-01-05  23.315205  31.689501  38.076500  102.621124  48.742840  8.026812   \n",
       "2016-01-06  22.858932  31.632500  37.966499  102.860863  47.857407  7.694906   \n",
       "2016-01-07  21.894178  30.396999  37.049999   97.816216  46.192799  7.389841   \n",
       "2016-01-08  22.009949  30.352501  36.545502   97.226845  46.334480  7.231209   \n",
       "\n",
       "Price                      Close                        ...       Open  \\\n",
       "Ticker           TSLA       AAPL       AMZN      GOOGL  ...       MSFT   \n",
       "Date                                                    ...              \n",
       "2016-01-04  14.894000  26.337500  31.849501  37.972000  ...  54.320000   \n",
       "2016-01-05  14.895333  25.677500  31.689501  38.076500  ...  54.930000   \n",
       "2016-01-06  14.602667  25.174999  31.632500  37.966499  ...  54.320000   \n",
       "2016-01-07  14.376667  24.112499  30.396999  37.049999  ...  52.700001   \n",
       "2016-01-08  14.066667  24.240000  30.352501  36.545502  ...  52.369999   \n",
       "\n",
       "Price                             Volume                                 \\\n",
       "Ticker        NVDA       TSLA       AAPL       AMZN     GOOGL      META   \n",
       "Date                                                                      \n",
       "2016-01-04  8.0725  15.381333  270597600  186290000  67382000  37912400   \n",
       "2016-01-05  8.2450  15.090667  223164000  116452000  45216000  23258200   \n",
       "2016-01-06  8.0875  14.666667  273829600  106584000  48206000  25096200   \n",
       "2016-01-07  7.6850  14.279333  324377600  141498000  63132000  45172900   \n",
       "2016-01-08  7.6675  14.524000  283192000  110258000  47506000  35402300   \n",
       "\n",
       "Price                                      \n",
       "Ticker          MSFT      NVDA       TSLA  \n",
       "Date                                       \n",
       "2016-01-04  53778000  35807600  102406500  \n",
       "2016-01-05  34079700  49027200   47802000  \n",
       "2016-01-06  39518900  44934400   56686500  \n",
       "2016-01-07  56564900  64530400   53314500  \n",
       "2016-01-08  48754000  39847200   54421500  \n",
       "\n",
       "[5 rows x 42 columns]"
      ]
     },
     "execution_count": 3,
     "metadata": {},
     "output_type": "execute_result"
    }
   ],
   "source": [
    "START_DATE = '2016-01-01'\n",
    "END_DATE = '2024-5-29'\n",
    "ASSET = ['AAPL','TSLA', 'MSFT',\"NVDA\",\"GOOGL\",\"AMZN\",\"META\"]\n",
    "prices_df = yf.download(ASSET,start = START_DATE,end = END_DATE)\n",
    "print(f'Downloaded {prices_df.shape[0]} rows of data.')\n",
    "prices_df.head()"
   ]
  },
  {
   "cell_type": "code",
   "execution_count": 4,
   "id": "1be38c8e",
   "metadata": {
    "scrolled": true
   },
   "outputs": [
    {
     "data": {
      "text/plain": [
       "Date\n",
       "2016-01-05   -0.025059\n",
       "2016-01-06   -0.019570\n",
       "2016-01-07   -0.042205\n",
       "2016-01-08    0.005288\n",
       "2016-01-11    0.016192\n",
       "Name: AAPL, dtype: float64"
      ]
     },
     "execution_count": 4,
     "metadata": {},
     "output_type": "execute_result"
    }
   ],
   "source": [
    "big_7_returns = prices_df['Adj Close'].pct_change().dropna()\n",
    "\n",
    "aapl_returns = big_7_returns['AAPL']\n",
    "q_low = aapl_returns.quantile(0.01)\n",
    "q_high = aapl_returns.quantile(0.99)\n",
    "aapl_returns_filtered = aapl_returns[(aapl_returns > q_low) & (aapl_returns < q_high)]\n",
    "aapl_returns.head()"
   ]
  },
  {
   "cell_type": "code",
   "execution_count": 5,
   "id": "93758be5",
   "metadata": {},
   "outputs": [
    {
     "name": "stdout",
     "output_type": "stream",
     "text": [
      "Performing stepwise search to minimize aic\n",
      " ARIMA(1,1,1)(0,0,0)[0] intercept   : AIC=inf, Time=1.01 sec\n",
      " ARIMA(0,1,0)(0,0,0)[0] intercept   : AIC=-9981.759, Time=0.12 sec\n",
      " ARIMA(1,1,0)(0,0,0)[0] intercept   : AIC=-10544.215, Time=0.08 sec\n",
      " ARIMA(0,1,1)(0,0,0)[0] intercept   : AIC=inf, Time=0.49 sec\n",
      " ARIMA(0,1,0)(0,0,0)[0]             : AIC=-9983.758, Time=0.04 sec\n",
      " ARIMA(2,1,0)(0,0,0)[0] intercept   : AIC=-10810.441, Time=0.14 sec\n",
      " ARIMA(3,1,0)(0,0,0)[0] intercept   : AIC=-10990.716, Time=0.09 sec\n",
      " ARIMA(4,1,0)(0,0,0)[0] intercept   : AIC=-11069.946, Time=0.58 sec\n",
      " ARIMA(5,1,0)(0,0,0)[0] intercept   : AIC=-11123.192, Time=0.63 sec\n",
      " ARIMA(5,1,1)(0,0,0)[0] intercept   : AIC=-11266.405, Time=1.81 sec\n",
      " ARIMA(4,1,1)(0,0,0)[0] intercept   : AIC=-11302.815, Time=1.43 sec\n",
      " ARIMA(3,1,1)(0,0,0)[0] intercept   : AIC=-11329.925, Time=1.01 sec\n",
      " ARIMA(2,1,1)(0,0,0)[0] intercept   : AIC=-11289.859, Time=0.51 sec\n",
      " ARIMA(3,1,2)(0,0,0)[0] intercept   : AIC=-11355.283, Time=1.30 sec\n",
      " ARIMA(2,1,2)(0,0,0)[0] intercept   : AIC=inf, Time=1.08 sec\n",
      " ARIMA(4,1,2)(0,0,0)[0] intercept   : AIC=-11331.333, Time=1.67 sec\n",
      " ARIMA(3,1,3)(0,0,0)[0] intercept   : AIC=-11399.632, Time=1.52 sec\n",
      " ARIMA(2,1,3)(0,0,0)[0] intercept   : AIC=-11392.213, Time=1.76 sec\n",
      " ARIMA(4,1,3)(0,0,0)[0] intercept   : AIC=-11346.533, Time=1.72 sec\n",
      " ARIMA(3,1,4)(0,0,0)[0] intercept   : AIC=inf, Time=1.81 sec\n",
      " ARIMA(2,1,4)(0,0,0)[0] intercept   : AIC=-11393.505, Time=1.88 sec\n",
      " ARIMA(4,1,4)(0,0,0)[0] intercept   : AIC=inf, Time=2.52 sec\n",
      " ARIMA(3,1,3)(0,0,0)[0]             : AIC=-11401.845, Time=0.76 sec\n",
      " ARIMA(2,1,3)(0,0,0)[0]             : AIC=inf, Time=1.15 sec\n",
      " ARIMA(3,1,2)(0,0,0)[0]             : AIC=inf, Time=0.73 sec\n",
      " ARIMA(4,1,3)(0,0,0)[0]             : AIC=inf, Time=1.13 sec\n",
      " ARIMA(3,1,4)(0,0,0)[0]             : AIC=inf, Time=1.58 sec\n",
      " ARIMA(2,1,2)(0,0,0)[0]             : AIC=inf, Time=0.67 sec\n",
      " ARIMA(2,1,4)(0,0,0)[0]             : AIC=inf, Time=1.08 sec\n",
      " ARIMA(4,1,2)(0,0,0)[0]             : AIC=inf, Time=0.78 sec\n",
      " ARIMA(4,1,4)(0,0,0)[0]             : AIC=inf, Time=1.63 sec\n",
      "\n",
      "Best model:  ARIMA(3,1,3)(0,0,0)[0]          \n",
      "Total fit time: 32.718 seconds\n"
     ]
    },
    {
     "name": "stderr",
     "output_type": "stream",
     "text": [
      "/opt/anaconda3/lib/python3.11/site-packages/statsmodels/tsa/base/tsa_model.py:836: ValueWarning: No supported index is available. Prediction results will be given with an integer index beginning at `start`.\n",
      "  return get_prediction_index(\n",
      "/opt/anaconda3/lib/python3.11/site-packages/statsmodels/tsa/base/tsa_model.py:836: FutureWarning: No supported index is available. In the next version, calling this method in a model without a supported index will result in an exception.\n",
      "  return get_prediction_index(\n"
     ]
    }
   ],
   "source": [
    "model_arima = pm.auto_arima(aapl_returns_filtered, start_p=1, start_q=1, max_p=5, max_q=5, seasonal=False, d=1,\n",
    "                            trace=True, error_action='ignore', suppress_warnings=True, stepwise=True)\n",
    "\n",
    "fc_arima, confint_arima = model_arima.predict(n_periods=len(aapl_returns) + 12 * 4, return_conf_int=True)"
   ]
  },
  {
   "cell_type": "code",
   "execution_count": 6,
   "id": "635ec432",
   "metadata": {},
   "outputs": [
    {
     "name": "stdout",
     "output_type": "stream",
     "text": [
      "RUNNING THE L-BFGS-B CODE\n",
      "\n",
      "           * * *\n",
      "\n",
      "Machine precision = 2.220D-16\n",
      " N =            7     M =           10\n",
      "\n",
      "At X0         0 variables are exactly at the bounds\n",
      "\n",
      "At iterate    0    f= -2.52875D+00    |proj g|=  1.73131D+01\n"
     ]
    },
    {
     "name": "stderr",
     "output_type": "stream",
     "text": [
      "/opt/anaconda3/lib/python3.11/site-packages/statsmodels/tsa/base/tsa_model.py:473: ValueWarning: A date index has been provided, but it has no associated frequency information and so will be ignored when e.g. forecasting.\n",
      "  self._init_dates(dates, freq)\n",
      "/opt/anaconda3/lib/python3.11/site-packages/statsmodels/tsa/base/tsa_model.py:473: ValueWarning: A date index has been provided, but it has no associated frequency information and so will be ignored when e.g. forecasting.\n",
      "  self._init_dates(dates, freq)\n",
      " This problem is unconstrained.\n"
     ]
    },
    {
     "name": "stdout",
     "output_type": "stream",
     "text": [
      "\n",
      "At iterate    5    f= -2.58546D+00    |proj g|=  1.05668D+00\n",
      "\n",
      "At iterate   10    f= -2.61407D+00    |proj g|=  1.19659D+01\n",
      "\n",
      "At iterate   15    f= -2.64604D+00    |proj g|=  2.05378D-01\n",
      "\n",
      "At iterate   20    f= -2.65054D+00    |proj g|=  6.24783D+00\n",
      "\n",
      "At iterate   25    f= -2.69004D+00    |proj g|=  5.23739D+00\n",
      "\n",
      "At iterate   30    f= -2.69336D+00    |proj g|=  5.82678D-01\n",
      "\n",
      "At iterate   35    f= -2.70679D+00    |proj g|=  3.55996D+00\n",
      "\n",
      "At iterate   40    f= -2.72461D+00    |proj g|=  1.90788D+00\n",
      "\n",
      "At iterate   45    f= -2.72739D+00    |proj g|=  2.52531D-01\n",
      "\n",
      "At iterate   50    f= -2.72740D+00    |proj g|=  3.45173D-02\n",
      "\n",
      "           * * *\n",
      "\n",
      "Tit   = total number of iterations\n",
      "Tnf   = total number of function evaluations\n",
      "Tnint = total number of segments explored during Cauchy searches\n",
      "Skip  = number of BFGS updates skipped\n",
      "Nact  = number of active bounds at final generalized Cauchy point\n",
      "Projg = norm of the final projected gradient\n",
      "F     = final function value\n",
      "\n",
      "           * * *\n",
      "\n",
      "   N    Tit     Tnf  Tnint  Skip  Nact     Projg        F\n",
      "    7     50     75      1     0     0   3.452D-02  -2.727D+00\n",
      "  F =  -2.7274040116799152     \n",
      "\n",
      "STOP: TOTAL NO. of ITERATIONS REACHED LIMIT                 \n"
     ]
    },
    {
     "name": "stderr",
     "output_type": "stream",
     "text": [
      "/opt/anaconda3/lib/python3.11/site-packages/statsmodels/base/model.py:607: ConvergenceWarning: Maximum Likelihood optimization failed to converge. Check mle_retvals\n",
      "  warnings.warn(\"Maximum Likelihood optimization failed to \"\n",
      "/opt/anaconda3/lib/python3.11/site-packages/statsmodels/tsa/base/tsa_model.py:836: ValueWarning: No supported index is available. Prediction results will be given with an integer index beginning at `start`.\n",
      "  return get_prediction_index(\n",
      "/opt/anaconda3/lib/python3.11/site-packages/statsmodels/tsa/base/tsa_model.py:836: FutureWarning: No supported index is available. In the next version, calling this method in a model without a supported index will result in an exception.\n",
      "  return get_prediction_index(\n"
     ]
    }
   ],
   "source": [
    "model_sarimax = SARIMAX(aapl_returns_filtered, order=(2, 1, 2), seasonal_order=(1, 1, 1, 12))\n",
    "results_sarimax = model_sarimax.fit()\n",
    "fc_sarimax = results_sarimax.forecast(steps=len(aapl_returns) + 12 * 4)"
   ]
  },
  {
   "cell_type": "code",
   "execution_count": 7,
   "id": "a19c81f1",
   "metadata": {},
   "outputs": [
    {
     "name": "stdout",
     "output_type": "stream",
     "text": [
      "MSE for ARIMA: 0.0003352399218753582\n",
      "MSE for SARIMAX: 0.00033784010498738137\n"
     ]
    }
   ],
   "source": [
    "mse_arima = mean_squared_error(aapl_returns, fc_arima[:len(aapl_returns)])\n",
    "mse_sarimax = mean_squared_error(aapl_returns, fc_sarimax[:len(aapl_returns)])\n",
    "print(f'MSE for ARIMA: {mse_arima}')\n",
    "print(f'MSE for SARIMAX: {mse_sarimax}')"
   ]
  },
  {
   "cell_type": "code",
   "execution_count": 8,
   "id": "dede4656",
   "metadata": {},
   "outputs": [
    {
     "name": "stderr",
     "output_type": "stream",
     "text": [
      "/opt/anaconda3/lib/python3.11/site-packages/statsmodels/tsa/base/tsa_model.py:836: ValueWarning: No supported index is available. Prediction results will be given with an integer index beginning at `start`.\n",
      "  return get_prediction_index(\n",
      "/opt/anaconda3/lib/python3.11/site-packages/statsmodels/tsa/base/tsa_model.py:836: FutureWarning: No supported index is available. In the next version, calling this method in a model without a supported index will result in an exception.\n",
      "  return get_prediction_index(\n"
     ]
    }
   ],
   "source": [
    "if mse_arima < mse_sarimax:\n",
    "    selected_model = model_arima\n",
    "    fc_final, confint_final = selected_model.predict(n_periods=12 * 10, return_conf_int=True)\n",
    "else:\n",
    "    selected_model = results_sarimax\n",
    "    forecast_result = selected_model.get_forecast(steps=12 * 10)\n",
    "    fc_final = forecast_result.predicted_mean\n",
    "    confint_final = forecast_result.conf_int()"
   ]
  },
  {
   "cell_type": "code",
   "execution_count": 9,
   "id": "455f10ca",
   "metadata": {},
   "outputs": [
    {
     "name": "stderr",
     "output_type": "stream",
     "text": [
      "/opt/anaconda3/lib/python3.11/site-packages/statsmodels/tsa/base/tsa_model.py:836: ValueWarning: No supported index is available. Prediction results will be given with an integer index beginning at `start`.\n",
      "  return get_prediction_index(\n",
      "/opt/anaconda3/lib/python3.11/site-packages/statsmodels/tsa/base/tsa_model.py:836: FutureWarning: No supported index is available. In the next version, calling this method in a model without a supported index will result in an exception.\n",
      "  return get_prediction_index(\n"
     ]
    }
   ],
   "source": [
    "fc_final, confint_final = selected_model.predict(n_periods=12 * 10, return_conf_int=True)\n",
    "future_dates = pd.date_range(start=END_DATE, periods=12 * 10, freq='M')\n",
    "assert len(future_dates) == len(fc_final)"
   ]
  },
  {
   "cell_type": "code",
   "execution_count": 10,
   "id": "222f62d8",
   "metadata": {},
   "outputs": [
    {
     "data": {
      "image/png": "[encoded data removed]",
      "text/plain": [
       "<Figure size 1200x600 with 1 Axes>"
      ]
     },
     "metadata": {},
     "output_type": "display_data"
    }
   ],
   "source": [
    "plt.figure(figsize=(12, 6))\n",
    "plt.plot(aapl_returns.index, aapl_returns, label='Actual Returns', color='blue')\n",
    "plt.plot(aapl_returns.index, fc_arima[:len(aapl_returns)], label='ARIMA Forecast', color='orange', linestyle='--')\n",
    "plt.plot(aapl_returns.index, fc_sarimax[:len(aapl_returns)], label='SARIMAX Forecast', color='green', linestyle='-.')\n",
    "plt.title('Actual Returns and Forecasted Returns for AAPL')\n",
    "plt.xlabel('Date')\n",
    "plt.ylabel('Returns')\n",
    "plt.legend()\n",
    "plt.show()"
   ]
  },
  {
   "cell_type": "code",
   "execution_count": null,
   "id": "84ba6656",
   "metadata": {},
   "outputs": [],
   "source": []
  },
  {
   "cell_type": "code",
   "execution_count": null,
   "id": "20fac1bc",
   "metadata": {},
   "outputs": [],
   "source": []
  },
  {
   "cell_type": "code",
   "execution_count": null,
   "id": "28c9bfe6",
   "metadata": {},
   "outputs": [],
   "source": []
  },
  {
   "cell_type": "code",
   "execution_count": null,
   "id": "f111d2b4",
   "metadata": {},
   "outputs": [],
   "source": []
  }
 ],
 "metadata": {
  "kernelspec": {
   "display_name": "Python 3 (ipykernel)",
   "language": "python",
   "name": "python3"
  },
  "language_info": {
   "codemirror_mode": {
    "name": "ipython",
    "version": 3
   },
   "file_extension": ".py",
   "mimetype": "text/x-python",
   "name": "python",
   "nbconvert_exporter": "python",
   "pygments_lexer": "ipython3",
   "version": "3.11.7"
  }
 },
 "nbformat": 4,
 "nbformat_minor": 5
}
