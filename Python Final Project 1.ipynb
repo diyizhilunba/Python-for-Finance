{
 "cells": [
  {
   "cell_type": "code",
   "execution_count": 1,
   "id": "79a7f24d",
   "metadata": {
    "scrolled": true
   },
   "outputs": [],
   "source": [
    "import yfinance as yf\n",
    "import numpy as np\n",
    "import pandas as pd\n",
    "from sklearn.linear_model import LinearRegression\n",
    "from sklearn.model_selection import train_test_split\n",
    "import matplotlib.pyplot as plt"
   ]
  },
  {
   "cell_type": "code",
   "execution_count": 2,
   "id": "511afd30",
   "metadata": {},
   "outputs": [],
   "source": [
    "np.random.seed(8)\n",
    "n_assets = 50\n",
    "sample = np.random.randint(0, 500, n_assets)"
   ]
  },
  {
   "cell_type": "code",
   "execution_count": 3,
   "id": "7b260e53",
   "metadata": {},
   "outputs": [],
   "source": [
    "sp500 = pd.read_html('https://en.wikipedia.org/wiki/List_of_S%26P_500_companies')\n",
    "sp500_list = np.array(sp500[0]['Symbol'])[sample]"
   ]
  },
  {
   "cell_type": "code",
   "execution_count": 4,
   "id": "2106da4a",
   "metadata": {},
   "outputs": [],
   "source": [
    "start_date = '2015-01-01'\n",
    "end_date = '2024-05-20'"
   ]
  },
  {
   "cell_type": "code",
   "execution_count": 5,
   "id": "1167ea54",
   "metadata": {},
   "outputs": [
    {
     "name": "stderr",
     "output_type": "stream",
     "text": [
      "[*********************100%%**********************]  47 of 47 completed\n"
     ]
    }
   ],
   "source": [
    "prices_df = yf.download(list(sp500_list), start=start_date, end=end_date)['Adj Close']\n",
    "prices_df.dropna(axis=1, inplace=True) "
   ]
  },
  {
   "cell_type": "code",
   "execution_count": 6,
   "id": "15e0887a",
   "metadata": {},
   "outputs": [
    {
     "name": "stdout",
     "output_type": "stream",
     "text": [
      "Downloaded 2360 rows of data.\n"
     ]
    },
    {
     "data": {
      "text/html": [
       "<div>\n",
       "<style scoped>\n",
       "    .dataframe tbody tr th:only-of-type {\n",
       "        vertical-align: middle;\n",
       "    }\n",
       "\n",
       "    .dataframe tbody tr th {\n",
       "        vertical-align: top;\n",
       "    }\n",
       "\n",
       "    .dataframe thead th {\n",
       "        text-align: right;\n",
       "    }\n",
       "</style>\n",
       "<table border=\"1\" class=\"dataframe\">\n",
       "  <thead>\n",
       "    <tr style=\"text-align: right;\">\n",
       "      <th>Ticker</th>\n",
       "      <th>A</th>\n",
       "      <th>ALL</th>\n",
       "      <th>ATO</th>\n",
       "      <th>AZO</th>\n",
       "      <th>BDX</th>\n",
       "      <th>CDNS</th>\n",
       "      <th>CI</th>\n",
       "      <th>CME</th>\n",
       "      <th>COF</th>\n",
       "      <th>COST</th>\n",
       "      <th>...</th>\n",
       "      <th>SBAC</th>\n",
       "      <th>SCHW</th>\n",
       "      <th>TDY</th>\n",
       "      <th>TMUS</th>\n",
       "      <th>TRGP</th>\n",
       "      <th>TRMB</th>\n",
       "      <th>TRV</th>\n",
       "      <th>UDR</th>\n",
       "      <th>WMB</th>\n",
       "      <th>XEL</th>\n",
       "    </tr>\n",
       "    <tr>\n",
       "      <th>Date</th>\n",
       "      <th></th>\n",
       "      <th></th>\n",
       "      <th></th>\n",
       "      <th></th>\n",
       "      <th></th>\n",
       "      <th></th>\n",
       "      <th></th>\n",
       "      <th></th>\n",
       "      <th></th>\n",
       "      <th></th>\n",
       "      <th></th>\n",
       "      <th></th>\n",
       "      <th></th>\n",
       "      <th></th>\n",
       "      <th></th>\n",
       "      <th></th>\n",
       "      <th></th>\n",
       "      <th></th>\n",
       "      <th></th>\n",
       "      <th></th>\n",
       "      <th></th>\n",
       "    </tr>\n",
       "  </thead>\n",
       "  <tbody>\n",
       "    <tr>\n",
       "      <th>2015-01-02</th>\n",
       "      <td>37.551201</td>\n",
       "      <td>57.149796</td>\n",
       "      <td>44.366871</td>\n",
       "      <td>616.789978</td>\n",
       "      <td>119.417488</td>\n",
       "      <td>18.830000</td>\n",
       "      <td>97.028183</td>\n",
       "      <td>61.346497</td>\n",
       "      <td>68.960213</td>\n",
       "      <td>115.047562</td>\n",
       "      <td>...</td>\n",
       "      <td>105.557999</td>\n",
       "      <td>26.970398</td>\n",
       "      <td>102.160004</td>\n",
       "      <td>27.073481</td>\n",
       "      <td>64.964722</td>\n",
       "      <td>26.910000</td>\n",
       "      <td>85.263603</td>\n",
       "      <td>22.636898</td>\n",
       "      <td>25.889225</td>\n",
       "      <td>27.094406</td>\n",
       "    </tr>\n",
       "    <tr>\n",
       "      <th>2015-01-05</th>\n",
       "      <td>36.847576</td>\n",
       "      <td>56.016911</td>\n",
       "      <td>43.565258</td>\n",
       "      <td>608.489990</td>\n",
       "      <td>120.151794</td>\n",
       "      <td>18.400000</td>\n",
       "      <td>95.358017</td>\n",
       "      <td>61.694508</td>\n",
       "      <td>67.371864</td>\n",
       "      <td>113.739616</td>\n",
       "      <td>...</td>\n",
       "      <td>103.893341</td>\n",
       "      <td>26.069000</td>\n",
       "      <td>99.720001</td>\n",
       "      <td>26.706553</td>\n",
       "      <td>60.189140</td>\n",
       "      <td>26.030001</td>\n",
       "      <td>84.236595</td>\n",
       "      <td>22.875027</td>\n",
       "      <td>24.864410</td>\n",
       "      <td>26.786871</td>\n",
       "    </tr>\n",
       "    <tr>\n",
       "      <th>2015-01-06</th>\n",
       "      <td>36.273548</td>\n",
       "      <td>55.976158</td>\n",
       "      <td>43.295399</td>\n",
       "      <td>607.820007</td>\n",
       "      <td>119.921280</td>\n",
       "      <td>17.910000</td>\n",
       "      <td>95.735443</td>\n",
       "      <td>60.754887</td>\n",
       "      <td>66.117882</td>\n",
       "      <td>115.242546</td>\n",
       "      <td>...</td>\n",
       "      <td>103.351135</td>\n",
       "      <td>25.114061</td>\n",
       "      <td>98.019997</td>\n",
       "      <td>26.647051</td>\n",
       "      <td>58.320187</td>\n",
       "      <td>25.660000</td>\n",
       "      <td>83.484566</td>\n",
       "      <td>23.004915</td>\n",
       "      <td>24.526625</td>\n",
       "      <td>26.929394</td>\n",
       "    </tr>\n",
       "    <tr>\n",
       "      <th>2015-01-07</th>\n",
       "      <td>36.754990</td>\n",
       "      <td>56.897148</td>\n",
       "      <td>43.914474</td>\n",
       "      <td>607.239990</td>\n",
       "      <td>122.730377</td>\n",
       "      <td>18.420000</td>\n",
       "      <td>97.981163</td>\n",
       "      <td>61.457855</td>\n",
       "      <td>66.870262</td>\n",
       "      <td>117.249306</td>\n",
       "      <td>...</td>\n",
       "      <td>104.768478</td>\n",
       "      <td>25.604918</td>\n",
       "      <td>98.790001</td>\n",
       "      <td>28.015598</td>\n",
       "      <td>57.767979</td>\n",
       "      <td>25.340000</td>\n",
       "      <td>84.907784</td>\n",
       "      <td>23.163668</td>\n",
       "      <td>24.394947</td>\n",
       "      <td>27.161930</td>\n",
       "    </tr>\n",
       "    <tr>\n",
       "      <th>2015-01-08</th>\n",
       "      <td>37.856712</td>\n",
       "      <td>57.989281</td>\n",
       "      <td>44.208141</td>\n",
       "      <td>606.000000</td>\n",
       "      <td>124.967415</td>\n",
       "      <td>18.610001</td>\n",
       "      <td>102.972687</td>\n",
       "      <td>61.743233</td>\n",
       "      <td>67.522331</td>\n",
       "      <td>118.256676</td>\n",
       "      <td>...</td>\n",
       "      <td>105.814827</td>\n",
       "      <td>26.274265</td>\n",
       "      <td>100.440002</td>\n",
       "      <td>28.779211</td>\n",
       "      <td>59.400291</td>\n",
       "      <td>25.670000</td>\n",
       "      <td>86.670616</td>\n",
       "      <td>23.207315</td>\n",
       "      <td>24.629677</td>\n",
       "      <td>27.476974</td>\n",
       "    </tr>\n",
       "  </tbody>\n",
       "</table>\n",
       "<p>5 rows × 46 columns</p>\n",
       "</div>"
      ],
      "text/plain": [
       "Ticker              A        ALL        ATO         AZO         BDX  \\\n",
       "Date                                                                  \n",
       "2015-01-02  37.551201  57.149796  44.366871  616.789978  119.417488   \n",
       "2015-01-05  36.847576  56.016911  43.565258  608.489990  120.151794   \n",
       "2015-01-06  36.273548  55.976158  43.295399  607.820007  119.921280   \n",
       "2015-01-07  36.754990  56.897148  43.914474  607.239990  122.730377   \n",
       "2015-01-08  37.856712  57.989281  44.208141  606.000000  124.967415   \n",
       "\n",
       "Ticker           CDNS          CI        CME        COF        COST  ...  \\\n",
       "Date                                                                 ...   \n",
       "2015-01-02  18.830000   97.028183  61.346497  68.960213  115.047562  ...   \n",
       "2015-01-05  18.400000   95.358017  61.694508  67.371864  113.739616  ...   \n",
       "2015-01-06  17.910000   95.735443  60.754887  66.117882  115.242546  ...   \n",
       "2015-01-07  18.420000   97.981163  61.457855  66.870262  117.249306  ...   \n",
       "2015-01-08  18.610001  102.972687  61.743233  67.522331  118.256676  ...   \n",
       "\n",
       "Ticker            SBAC       SCHW         TDY       TMUS       TRGP  \\\n",
       "Date                                                                  \n",
       "2015-01-02  105.557999  26.970398  102.160004  27.073481  64.964722   \n",
       "2015-01-05  103.893341  26.069000   99.720001  26.706553  60.189140   \n",
       "2015-01-06  103.351135  25.114061   98.019997  26.647051  58.320187   \n",
       "2015-01-07  104.768478  25.604918   98.790001  28.015598  57.767979   \n",
       "2015-01-08  105.814827  26.274265  100.440002  28.779211  59.400291   \n",
       "\n",
       "Ticker           TRMB        TRV        UDR        WMB        XEL  \n",
       "Date                                                               \n",
       "2015-01-02  26.910000  85.263603  22.636898  25.889225  27.094406  \n",
       "2015-01-05  26.030001  84.236595  22.875027  24.864410  26.786871  \n",
       "2015-01-06  25.660000  83.484566  23.004915  24.526625  26.929394  \n",
       "2015-01-07  25.340000  84.907784  23.163668  24.394947  27.161930  \n",
       "2015-01-08  25.670000  86.670616  23.207315  24.629677  27.476974  \n",
       "\n",
       "[5 rows x 46 columns]"
      ]
     },
     "execution_count": 6,
     "metadata": {},
     "output_type": "execute_result"
    }
   ],
   "source": [
    "print(f'Downloaded {prices_df.shape[0]} rows of data.')\n",
    "prices_df.head()"
   ]
  },
  {
   "cell_type": "code",
   "execution_count": 7,
   "id": "26536e0a",
   "metadata": {
    "scrolled": false
   },
   "outputs": [],
   "source": [
    "ticker = np.random.choice(prices_df.columns)\n",
    "data = prices_df[ticker].reset_index()\n",
    "data.columns = ['Date', 'Close']"
   ]
  },
  {
   "cell_type": "code",
   "execution_count": 8,
   "id": "82b355ad",
   "metadata": {},
   "outputs": [],
   "source": [
    "data = data[['Date', 'Close']]\n",
    "data = data.dropna()"
   ]
  },
  {
   "cell_type": "code",
   "execution_count": 9,
   "id": "56543c6b",
   "metadata": {},
   "outputs": [],
   "source": [
    "data['Prediction'] = data['Close'].shift(-1)\n",
    "X = np.array(data.drop(['Prediction', 'Date'], axis=1))[:-1]\n",
    "y = np.array(data['Prediction'])[:-1]"
   ]
  },
  {
   "cell_type": "code",
   "execution_count": 10,
   "id": "532dec81",
   "metadata": {},
   "outputs": [
    {
     "name": "stdout",
     "output_type": "stream",
     "text": [
      "(2359, 1) (2359,)\n"
     ]
    }
   ],
   "source": [
    "print(X.shape, y.shape)"
   ]
  },
  {
   "cell_type": "code",
   "execution_count": 11,
   "id": "5a39ada6",
   "metadata": {},
   "outputs": [],
   "source": [
    "X_train, X_test, y_train, y_test = train_test_split(X, y, test_size=0.2, random_state=42)"
   ]
  },
  {
   "cell_type": "code",
   "execution_count": 12,
   "id": "e41ffc7e",
   "metadata": {},
   "outputs": [
    {
     "data": {
      "text/html": [
       "<style>#sk-container-id-1 {color: black;background-color: white;}#sk-container-id-1 pre{padding: 0;}#sk-container-id-1 div.sk-toggleable {background-color: white;}#sk-container-id-1 label.sk-toggleable__label {cursor: pointer;display: block;width: 100%;margin-bottom: 0;padding: 0.3em;box-sizing: border-box;text-align: center;}#sk-container-id-1 label.sk-toggleable__label-arrow:before {content: \"▸\";float: left;margin-right: 0.25em;color: #696969;}#sk-container-id-1 label.sk-toggleable__label-arrow:hover:before {color: black;}#sk-container-id-1 div.sk-estimator:hover label.sk-toggleable__label-arrow:before {color: black;}#sk-container-id-1 div.sk-toggleable__content {max-height: 0;max-width: 0;overflow: hidden;text-align: left;background-color: #f0f8ff;}#sk-container-id-1 div.sk-toggleable__content pre {margin: 0.2em;color: black;border-radius: 0.25em;background-color: #f0f8ff;}#sk-container-id-1 input.sk-toggleable__control:checked~div.sk-toggleable__content {max-height: 200px;max-width: 100%;overflow: auto;}#sk-container-id-1 input.sk-toggleable__control:checked~label.sk-toggleable__label-arrow:before {content: \"▾\";}#sk-container-id-1 div.sk-estimator input.sk-toggleable__control:checked~label.sk-toggleable__label {background-color: #d4ebff;}#sk-container-id-1 div.sk-label input.sk-toggleable__control:checked~label.sk-toggleable__label {background-color: #d4ebff;}#sk-container-id-1 input.sk-hidden--visually {border: 0;clip: rect(1px 1px 1px 1px);clip: rect(1px, 1px, 1px, 1px);height: 1px;margin: -1px;overflow: hidden;padding: 0;position: absolute;width: 1px;}#sk-container-id-1 div.sk-estimator {font-family: monospace;background-color: #f0f8ff;border: 1px dotted black;border-radius: 0.25em;box-sizing: border-box;margin-bottom: 0.5em;}#sk-container-id-1 div.sk-estimator:hover {background-color: #d4ebff;}#sk-container-id-1 div.sk-parallel-item::after {content: \"\";width: 100%;border-bottom: 1px solid gray;flex-grow: 1;}#sk-container-id-1 div.sk-label:hover label.sk-toggleable__label {background-color: #d4ebff;}#sk-container-id-1 div.sk-serial::before {content: \"\";position: absolute;border-left: 1px solid gray;box-sizing: border-box;top: 0;bottom: 0;left: 50%;z-index: 0;}#sk-container-id-1 div.sk-serial {display: flex;flex-direction: column;align-items: center;background-color: white;padding-right: 0.2em;padding-left: 0.2em;position: relative;}#sk-container-id-1 div.sk-item {position: relative;z-index: 1;}#sk-container-id-1 div.sk-parallel {display: flex;align-items: stretch;justify-content: center;background-color: white;position: relative;}#sk-container-id-1 div.sk-item::before, #sk-container-id-1 div.sk-parallel-item::before {content: \"\";position: absolute;border-left: 1px solid gray;box-sizing: border-box;top: 0;bottom: 0;left: 50%;z-index: -1;}#sk-container-id-1 div.sk-parallel-item {display: flex;flex-direction: column;z-index: 1;position: relative;background-color: white;}#sk-container-id-1 div.sk-parallel-item:first-child::after {align-self: flex-end;width: 50%;}#sk-container-id-1 div.sk-parallel-item:last-child::after {align-self: flex-start;width: 50%;}#sk-container-id-1 div.sk-parallel-item:only-child::after {width: 0;}#sk-container-id-1 div.sk-dashed-wrapped {border: 1px dashed gray;margin: 0 0.4em 0.5em 0.4em;box-sizing: border-box;padding-bottom: 0.4em;background-color: white;}#sk-container-id-1 div.sk-label label {font-family: monospace;font-weight: bold;display: inline-block;line-height: 1.2em;}#sk-container-id-1 div.sk-label-container {text-align: center;}#sk-container-id-1 div.sk-container {/* jupyter's `normalize.less` sets `[hidden] { display: none; }` but bootstrap.min.css set `[hidden] { display: none !important; }` so we also need the `!important` here to be able to override the default hidden behavior on the sphinx rendered scikit-learn.org. See: https://github.com/scikit-learn/scikit-learn/issues/21755 */display: inline-block !important;position: relative;}#sk-container-id-1 div.sk-text-repr-fallback {display: none;}</style><div id=\"sk-container-id-1\" class=\"sk-top-container\"><div class=\"sk-text-repr-fallback\"><pre>LinearRegression()</pre><b>In a Jupyter environment, please rerun this cell to show the HTML representation or trust the notebook. <br />On GitHub, the HTML representation is unable to render, please try loading this page with nbviewer.org.</b></div><div class=\"sk-container\" hidden><div class=\"sk-item\"><div class=\"sk-estimator sk-toggleable\"><input class=\"sk-toggleable__control sk-hidden--visually\" id=\"sk-estimator-id-1\" type=\"checkbox\" checked><label for=\"sk-estimator-id-1\" class=\"sk-toggleable__label sk-toggleable__label-arrow\">LinearRegression</label><div class=\"sk-toggleable__content\"><pre>LinearRegression()</pre></div></div></div></div></div>"
      ],
      "text/plain": [
       "LinearRegression()"
      ]
     },
     "execution_count": 12,
     "metadata": {},
     "output_type": "execute_result"
    }
   ],
   "source": [
    "model = LinearRegression()\n",
    "model.fit(X_train, y_train)"
   ]
  },
  {
   "cell_type": "code",
   "execution_count": 13,
   "id": "91545053",
   "metadata": {},
   "outputs": [],
   "source": [
    "predictions = model.predict(X_test)"
   ]
  },
  {
   "cell_type": "code",
   "execution_count": 14,
   "id": "e72de0f6",
   "metadata": {},
   "outputs": [
    {
     "data": {
      "text/html": [
       "<style>#sk-container-id-2 {color: black;background-color: white;}#sk-container-id-2 pre{padding: 0;}#sk-container-id-2 div.sk-toggleable {background-color: white;}#sk-container-id-2 label.sk-toggleable__label {cursor: pointer;display: block;width: 100%;margin-bottom: 0;padding: 0.3em;box-sizing: border-box;text-align: center;}#sk-container-id-2 label.sk-toggleable__label-arrow:before {content: \"▸\";float: left;margin-right: 0.25em;color: #696969;}#sk-container-id-2 label.sk-toggleable__label-arrow:hover:before {color: black;}#sk-container-id-2 div.sk-estimator:hover label.sk-toggleable__label-arrow:before {color: black;}#sk-container-id-2 div.sk-toggleable__content {max-height: 0;max-width: 0;overflow: hidden;text-align: left;background-color: #f0f8ff;}#sk-container-id-2 div.sk-toggleable__content pre {margin: 0.2em;color: black;border-radius: 0.25em;background-color: #f0f8ff;}#sk-container-id-2 input.sk-toggleable__control:checked~div.sk-toggleable__content {max-height: 200px;max-width: 100%;overflow: auto;}#sk-container-id-2 input.sk-toggleable__control:checked~label.sk-toggleable__label-arrow:before {content: \"▾\";}#sk-container-id-2 div.sk-estimator input.sk-toggleable__control:checked~label.sk-toggleable__label {background-color: #d4ebff;}#sk-container-id-2 div.sk-label input.sk-toggleable__control:checked~label.sk-toggleable__label {background-color: #d4ebff;}#sk-container-id-2 input.sk-hidden--visually {border: 0;clip: rect(1px 1px 1px 1px);clip: rect(1px, 1px, 1px, 1px);height: 1px;margin: -1px;overflow: hidden;padding: 0;position: absolute;width: 1px;}#sk-container-id-2 div.sk-estimator {font-family: monospace;background-color: #f0f8ff;border: 1px dotted black;border-radius: 0.25em;box-sizing: border-box;margin-bottom: 0.5em;}#sk-container-id-2 div.sk-estimator:hover {background-color: #d4ebff;}#sk-container-id-2 div.sk-parallel-item::after {content: \"\";width: 100%;border-bottom: 1px solid gray;flex-grow: 1;}#sk-container-id-2 div.sk-label:hover label.sk-toggleable__label {background-color: #d4ebff;}#sk-container-id-2 div.sk-serial::before {content: \"\";position: absolute;border-left: 1px solid gray;box-sizing: border-box;top: 0;bottom: 0;left: 50%;z-index: 0;}#sk-container-id-2 div.sk-serial {display: flex;flex-direction: column;align-items: center;background-color: white;padding-right: 0.2em;padding-left: 0.2em;position: relative;}#sk-container-id-2 div.sk-item {position: relative;z-index: 1;}#sk-container-id-2 div.sk-parallel {display: flex;align-items: stretch;justify-content: center;background-color: white;position: relative;}#sk-container-id-2 div.sk-item::before, #sk-container-id-2 div.sk-parallel-item::before {content: \"\";position: absolute;border-left: 1px solid gray;box-sizing: border-box;top: 0;bottom: 0;left: 50%;z-index: -1;}#sk-container-id-2 div.sk-parallel-item {display: flex;flex-direction: column;z-index: 1;position: relative;background-color: white;}#sk-container-id-2 div.sk-parallel-item:first-child::after {align-self: flex-end;width: 50%;}#sk-container-id-2 div.sk-parallel-item:last-child::after {align-self: flex-start;width: 50%;}#sk-container-id-2 div.sk-parallel-item:only-child::after {width: 0;}#sk-container-id-2 div.sk-dashed-wrapped {border: 1px dashed gray;margin: 0 0.4em 0.5em 0.4em;box-sizing: border-box;padding-bottom: 0.4em;background-color: white;}#sk-container-id-2 div.sk-label label {font-family: monospace;font-weight: bold;display: inline-block;line-height: 1.2em;}#sk-container-id-2 div.sk-label-container {text-align: center;}#sk-container-id-2 div.sk-container {/* jupyter's `normalize.less` sets `[hidden] { display: none; }` but bootstrap.min.css set `[hidden] { display: none !important; }` so we also need the `!important` here to be able to override the default hidden behavior on the sphinx rendered scikit-learn.org. See: https://github.com/scikit-learn/scikit-learn/issues/21755 */display: inline-block !important;position: relative;}#sk-container-id-2 div.sk-text-repr-fallback {display: none;}</style><div id=\"sk-container-id-2\" class=\"sk-top-container\"><div class=\"sk-text-repr-fallback\"><pre>LinearRegression()</pre><b>In a Jupyter environment, please rerun this cell to show the HTML representation or trust the notebook. <br />On GitHub, the HTML representation is unable to render, please try loading this page with nbviewer.org.</b></div><div class=\"sk-container\" hidden><div class=\"sk-item\"><div class=\"sk-estimator sk-toggleable\"><input class=\"sk-toggleable__control sk-hidden--visually\" id=\"sk-estimator-id-2\" type=\"checkbox\" checked><label for=\"sk-estimator-id-2\" class=\"sk-toggleable__label sk-toggleable__label-arrow\">LinearRegression</label><div class=\"sk-toggleable__content\"><pre>LinearRegression()</pre></div></div></div></div></div>"
      ],
      "text/plain": [
       "LinearRegression()"
      ]
     },
     "execution_count": 14,
     "metadata": {},
     "output_type": "execute_result"
    }
   ],
   "source": [
    "model.fit(X, y)"
   ]
  },
  {
   "cell_type": "code",
   "execution_count": 15,
   "id": "86bc6701",
   "metadata": {},
   "outputs": [],
   "source": [
    "future_days = 365\n",
    "last_close = data['Close'].values[-1]\n",
    "future_features = [last_close]\n",
    "\n",
    "for _ in range(future_days - 1):\n",
    "    next_close = model.predict(np.array(future_features[-1]).reshape(-1, 1))[0]\n",
    "    future_features.append(next_close)"
   ]
  },
  {
   "cell_type": "code",
   "execution_count": 16,
   "id": "aa176e73",
   "metadata": {},
   "outputs": [],
   "source": [
    "future_dates = pd.date_range(start='2024-01-01', periods=future_days)"
   ]
  },
  {
   "cell_type": "code",
   "execution_count": 17,
   "id": "f35548cb",
   "metadata": {},
   "outputs": [],
   "source": [
    "predicted_data = pd.DataFrame(data={'Date': future_dates, 'Predicted Close': future_features})"
   ]
  },
  {
   "cell_type": "code",
   "execution_count": 18,
   "id": "b7c236e8",
   "metadata": {},
   "outputs": [
    {
     "data": {
      "image/png": "[encoded data removed]",
      "text/plain": [
       "<Figure size 1200x600 with 1 Axes>"
      ]
     },
     "metadata": {},
     "output_type": "display_data"
    }
   ],
   "source": [
    "plt.figure(figsize=(12, 6))\n",
    "plt.plot(data['Date'], data['Close'], label='Historical Stock Price')\n",
    "plt.plot(predicted_data['Date'], predicted_data['Predicted Close'], label=f'Predicted Stock Price for 2024 ({ticker})', color='red')\n",
    "plt.legend()\n",
    "plt.title(f'{ticker} Stock Price Prediction for 2024')\n",
    "plt.xlabel('Date')\n",
    "plt.ylabel('Close Price')\n",
    "plt.show()"
   ]
  },
  {
   "cell_type": "code",
   "execution_count": null,
   "id": "df8b1201",
   "metadata": {},
   "outputs": [],
   "source": []
  }
 ],
 "metadata": {
  "kernelspec": {
   "display_name": "Python 3 (ipykernel)",
   "language": "python",
   "name": "python3"
  },
  "language_info": {
   "codemirror_mode": {
    "name": "ipython",
    "version": 3
   },
   "file_extension": ".py",
   "mimetype": "text/x-python",
   "name": "python",
   "nbconvert_exporter": "python",
   "pygments_lexer": "ipython3",
   "version": "3.11.7"
  }
 },
 "nbformat": 4,
 "nbformat_minor": 5
}
