{
 "cells": [
  {
   "cell_type": "markdown",
   "metadata": {},
   "source": [
    "# machine learning?"
   ]
  },
  {
   "cell_type": "code",
   "execution_count": 61,
   "metadata": {},
   "outputs": [],
   "source": [
    "# import labrary\n",
    "import numpy as np\n",
    "import pandas as pd\n",
    "import matplotlib.pyplot as plt\n",
    "import yfinance as yf\n",
    "import matplotlib\n",
    "from sklearn.model_selection import train_test_split\n",
    "matplotlib.rcParams['figure.figsize'] = (4, 3)"
   ]
  },
  {
   "cell_type": "code",
   "execution_count": 62,
   "metadata": {},
   "outputs": [
    {
     "name": "stderr",
     "output_type": "stream",
     "text": [
      "[*********************100%%**********************]  1 of 1 completed\n"
     ]
    },
    {
     "data": {
      "text/html": [
       "<div>\n",
       "<style scoped>\n",
       "    .dataframe tbody tr th:only-of-type {\n",
       "        vertical-align: middle;\n",
       "    }\n",
       "\n",
       "    .dataframe tbody tr th {\n",
       "        vertical-align: top;\n",
       "    }\n",
       "\n",
       "    .dataframe thead th {\n",
       "        text-align: right;\n",
       "    }\n",
       "</style>\n",
       "<table border=\"1\" class=\"dataframe\">\n",
       "  <thead>\n",
       "    <tr style=\"text-align: right;\">\n",
       "      <th></th>\n",
       "      <th>Open</th>\n",
       "      <th>High</th>\n",
       "      <th>Low</th>\n",
       "      <th>Close</th>\n",
       "      <th>Adj Close</th>\n",
       "      <th>Volume</th>\n",
       "    </tr>\n",
       "    <tr>\n",
       "      <th>Date</th>\n",
       "      <th></th>\n",
       "      <th></th>\n",
       "      <th></th>\n",
       "      <th></th>\n",
       "      <th></th>\n",
       "      <th></th>\n",
       "    </tr>\n",
       "  </thead>\n",
       "  <tbody>\n",
       "    <tr>\n",
       "      <th>2023-12-22</th>\n",
       "      <td>256.760010</td>\n",
       "      <td>258.220001</td>\n",
       "      <td>251.369995</td>\n",
       "      <td>252.539993</td>\n",
       "      <td>252.539993</td>\n",
       "      <td>93249800</td>\n",
       "    </tr>\n",
       "    <tr>\n",
       "      <th>2023-12-26</th>\n",
       "      <td>254.490005</td>\n",
       "      <td>257.970001</td>\n",
       "      <td>252.910004</td>\n",
       "      <td>256.609985</td>\n",
       "      <td>256.609985</td>\n",
       "      <td>86892400</td>\n",
       "    </tr>\n",
       "    <tr>\n",
       "      <th>2023-12-27</th>\n",
       "      <td>258.350006</td>\n",
       "      <td>263.339996</td>\n",
       "      <td>257.519989</td>\n",
       "      <td>261.440002</td>\n",
       "      <td>261.440002</td>\n",
       "      <td>106494400</td>\n",
       "    </tr>\n",
       "    <tr>\n",
       "      <th>2023-12-28</th>\n",
       "      <td>263.660004</td>\n",
       "      <td>265.130005</td>\n",
       "      <td>252.710007</td>\n",
       "      <td>253.179993</td>\n",
       "      <td>253.179993</td>\n",
       "      <td>113619900</td>\n",
       "    </tr>\n",
       "    <tr>\n",
       "      <th>2023-12-29</th>\n",
       "      <td>255.100006</td>\n",
       "      <td>255.190002</td>\n",
       "      <td>247.429993</td>\n",
       "      <td>248.479996</td>\n",
       "      <td>248.479996</td>\n",
       "      <td>100615300</td>\n",
       "    </tr>\n",
       "  </tbody>\n",
       "</table>\n",
       "</div>"
      ],
      "text/plain": [
       "                  Open        High         Low       Close   Adj Close  \\\n",
       "Date                                                                     \n",
       "2023-12-22  256.760010  258.220001  251.369995  252.539993  252.539993   \n",
       "2023-12-26  254.490005  257.970001  252.910004  256.609985  256.609985   \n",
       "2023-12-27  258.350006  263.339996  257.519989  261.440002  261.440002   \n",
       "2023-12-28  263.660004  265.130005  252.710007  253.179993  253.179993   \n",
       "2023-12-29  255.100006  255.190002  247.429993  248.479996  248.479996   \n",
       "\n",
       "               Volume  \n",
       "Date                   \n",
       "2023-12-22   93249800  \n",
       "2023-12-26   86892400  \n",
       "2023-12-27  106494400  \n",
       "2023-12-28  113619900  \n",
       "2023-12-29  100615300  "
      ]
     },
     "execution_count": 62,
     "metadata": {},
     "output_type": "execute_result"
    }
   ],
   "source": [
    "# get data\n",
    "data = yf.download('TSLA', start='2021-01-01', end='2023-12-31')\n",
    "data.tail()"
   ]
  },
  {
   "cell_type": "code",
   "execution_count": 63,
   "metadata": {},
   "outputs": [],
   "source": [
    "# 整理数据\n",
    "data['Prediction'] = data['Close'].shift(-1)\n",
    "data.dropna(inplace=True)\n",
    "data.head()\n",
    "my_data = np.array(data)\n",
    "x_train_set, x_test_set, y_train_set, y_test_set = train_test_split(my_data[:, :-1], my_data[:, -1], test_size=0.2)\n",
    "train_set = np.concatenate((x_train_set, y_train_set.reshape(-1, 1)), axis=1)\n",
    "test_set = np.concatenate((x_test_set, y_test_set.reshape(-1, 1)), axis=1)"
   ]
  },
  {
   "cell_type": "code",
   "execution_count": 64,
   "metadata": {},
   "outputs": [],
   "source": [
    "# 确定节点值\n",
    "def value_leaf(dataset):\n",
    "    return np.mean(dataset[:, -1])\n",
    "\n",
    "# 确定误差熵\n",
    "def err_leaf(dataset):\n",
    "    return np.var(dataset[:, -1]) * np.shape(dataset)[0]\n",
    "\n",
    "# 划分数据集\n",
    "def split_dataset(dataset, feature_index, split_value):\n",
    "    left_dataset = dataset[dataset[:, feature_index] <= split_value]\n",
    "    right_dataset = dataset[dataset[:, feature_index] > split_value]\n",
    "    return left_dataset, right_dataset\n",
    "\n",
    "# 找到最佳分割点\n",
    "def best_split(dataset, value = value_leaf, err = err_leaf, choose = (10, 4)):\n",
    "    '''\n",
    "    choose: 容忍误差熵的范围，容忍孤立个数大小\n",
    "    '''\n",
    "    max_S = choose[0]\n",
    "    max_N = choose[1]\n",
    "    # 结果只有一个值\n",
    "    if len(set(dataset[:, -1].T.tolist())) == 1:\n",
    "        return None, value(dataset)\n",
    "    m, n = np.shape(dataset)\n",
    "    S = err(dataset)\n",
    "    best_S = np.inf\n",
    "    best_Index = 0\n",
    "    best_value = 0\n",
    "    for feature_index in range(n - 1):\n",
    "        for split_value in set(dataset[:, feature_index]):\n",
    "            left_dataset, right_dataset = split_dataset(dataset, feature_index, split_value)\n",
    "            new_S = err(left_dataset) + err(right_dataset)\n",
    "            if new_S < best_S:\n",
    "                best_S = new_S\n",
    "                best_Index = feature_index\n",
    "                best_value = split_value\n",
    "    # 误差熵可以容忍\n",
    "    if (S - best_S) < max_S:\n",
    "        return None, value(dataset)\n",
    "    left_dataset, right_dataset = split_dataset(dataset, best_Index, best_value)\n",
    "    # 划分结果数量太少\n",
    "    if len(left_dataset) < max_N or len(right_dataset) < max_N:\n",
    "        return None, value(dataset)\n",
    "    return best_Index, best_value\n",
    "\n",
    "# 递归构建决策树\n",
    "def my_CART(dataset, value = value_leaf, err = err_leaf, choose = (10, 4)):\n",
    "    feature_index, split_value = best_split(dataset, value, err, choose)\n",
    "    if feature_index is None:\n",
    "        return split_value\n",
    "    left_set, right_set = split_dataset(dataset, feature_index, split_value)\n",
    "    tree_dict = {}\n",
    "    tree_dict['feature_index'] = feature_index\n",
    "    tree_dict['split_value'] = split_value\n",
    "    tree_dict['left'] = my_CART(left_set, value, err, choose)\n",
    "    tree_dict['right'] = my_CART(right_set, value, err, choose)\n",
    "    return tree_dict\n",
    "\n",
    "# 叶节点判断\n",
    "def is_tree(obj):\n",
    "    return (type(obj).__name__ == 'dict')\n",
    "\n",
    "# 节点均值\n",
    "def mean_leaf(tree):\n",
    "    if is_tree(tree['left']):\n",
    "        tree['left'] = mean_leaf(tree['left'])\n",
    "    if is_tree(tree['right']):\n",
    "        tree['right'] = mean_leaf(tree['right'])\n",
    "    return (tree['left'] + tree['right']) / 2\n",
    "\n",
    "# 后剪枝\n",
    "def prune(tree, prune_set):\n",
    "    if np.shape(prune_set)[0] == 0:\n",
    "        return mean_leaf(tree)\n",
    "    if is_tree(tree['left']) or is_tree(tree['right']):\n",
    "        left_set, right_set = split_dataset(prune_set, tree['feature_index'], tree['split_value'])\n",
    "    if is_tree(tree['left']):\n",
    "        tree['left'] = prune(tree['left'], left_set)\n",
    "    if is_tree(tree['right']):\n",
    "        tree['right'] = prune(tree['right'], right_set)\n",
    "    if not is_tree(tree['left']) and not is_tree(tree['right']):\n",
    "        left_set, right_set = split_dataset(prune_set, tree['feature_index'], tree['split_value'])\n",
    "        err_before = np.sum(np.square(left_set[:, -1] - tree['left'])) + np.sum(np.square(right_set[:, -1] - tree['right']))\n",
    "        err_after = np.sum(np.square(prune_set[:, -1] - mean_leaf(tree)))\n",
    "        if err_after < err_before:\n",
    "            return mean_leaf(tree)\n",
    "    return tree\n",
    "\n",
    "# 预测函数\n",
    "def predict_model(tree, test_data):\n",
    "    return float(tree)\n",
    "\n",
    "# 预测\n",
    "def predict(tree, test_data, model = predict_model):\n",
    "    if not is_tree(tree):\n",
    "        return model(tree, test_data)\n",
    "    if test_data[tree['feature_index']] > tree['split_value']:\n",
    "        if is_tree(tree['left']):\n",
    "            return predict(tree['left'], test_data, model)\n",
    "        else:\n",
    "            return model(tree['left'], test_data)\n",
    "    else:\n",
    "        if is_tree(tree['right']):\n",
    "            return predict(tree['right'], test_data, model)\n",
    "        else:\n",
    "            return model(tree['right'], test_data)\n",
    "\n",
    "\n",
    "def creat_forecast(tree, test_data, model = predict_model):\n",
    "    m = len(test_data)\n",
    "    y_hat = np.mat(np.zeros((m, 1)))\n",
    "    for i in range(m):\n",
    "        y_hat[i, 0] = predict(tree, test_data[i], model)\n",
    "    return y_hat"
   ]
  },
  {
   "cell_type": "code",
   "execution_count": 65,
   "metadata": {},
   "outputs": [
    {
     "name": "stderr",
     "output_type": "stream",
     "text": [
      "d:\\app\\anaconda\\Lib\\site-packages\\numpy\\core\\fromnumeric.py:3747: RuntimeWarning: Degrees of freedom <= 0 for slice\n",
      "  return _methods._var(a, axis=axis, dtype=dtype, out=out, ddof=ddof,\n",
      "d:\\app\\anaconda\\Lib\\site-packages\\numpy\\core\\_methods.py:226: RuntimeWarning: invalid value encountered in divide\n",
      "  arrmean = um.true_divide(arrmean, div, out=arrmean,\n",
      "d:\\app\\anaconda\\Lib\\site-packages\\numpy\\core\\_methods.py:261: RuntimeWarning: invalid value encountered in scalar divide\n",
      "  ret = ret.dtype.type(ret / rcount)\n"
     ]
    }
   ],
   "source": [
    "my_tree = my_CART(train_set)\n",
    "my_tree_pro = prune(my_tree, test_set)"
   ]
  },
  {
   "cell_type": "code",
   "execution_count": 67,
   "metadata": {},
   "outputs": [
    {
     "name": "stdout",
     "output_type": "stream",
     "text": [
      "{'feature_index': 3, 'split_value': 258.3333435058594, 'left': {'feature_index': 3, 'split_value': 202.77000427246094, 'left': {'feature_index': 3, 'split_value': 157.6699981689453, 'left': {'feature_index': 0, 'split_value': 139.33999633789062, 'left': {'feature_index': 2, 'split_value': 122.26000213623047, 'left': 119.43461491511418, 'right': 128.67999839782715}, 'right': 148.25142778669084}, 'right': {'feature_index': 2, 'split_value': 175.3300018310547, 'left': {'feature_index': 3, 'split_value': 167.97999572753906, 'left': 165.73875045776367, 'right': 175.17142813546317}, 'right': {'feature_index': 3, 'split_value': 194.4199981689453, 'left': {'feature_index': 3, 'split_value': 187.7100067138672, 'left': 185.9610699244908, 'right': 191.7201051712036}, 'right': 198.87366841634113}}}, 'right': {'feature_index': 3, 'split_value': 233.0, 'left': {'feature_index': 3, 'split_value': 215.30999755859375, 'left': {'feature_index': 3, 'split_value': 207.77000427246094, 'left': 203.78402964274088, 'right': 214.29870202806262}, 'right': {'feature_index': 3, 'split_value': 224.1233367919922, 'left': {'feature_index': 5, 'split_value': 91483000.0, 'left': 217.5005563100179, 'right': 222.6854392603824}, 'right': {'feature_index': 5, 'split_value': 119131800.0, 'left': 226.49161645137903, 'right': 233.1499982561384}}}, 'right': {'feature_index': 2, 'split_value': 243.0, 'left': {'feature_index': 3, 'split_value': 241.1999969482422, 'left': 237.32078857421874, 'right': 245.18421773310308}, 'right': 253.82591667175294}}}, 'right': {'feature_index': 2, 'split_value': 309.4166564941406, 'left': {'feature_index': 3, 'split_value': 288.5899963378906, 'left': {'feature_index': 3, 'split_value': 269.05999755859375, 'left': {'feature_index': 3, 'split_value': 266.67999267578125, 'left': 262.0531584087171, 'right': 269.66833114624023}, 'right': {'feature_index': 3, 'split_value': 279.42999267578125, 'left': {'feature_index': 2, 'split_value': 265.739990234375, 'left': 283.6477813720703, 'right': {'feature_index': 2, 'split_value': 267.0333251953125, 'left': 265.34749603271484, 'right': 275.5044189453125}}, 'right': 285.1156617332907}}, 'right': {'feature_index': 3, 'split_value': 297.1499938964844, 'left': 291.17166595458986, 'right': 303.062586158213}}, 'right': {'feature_index': 2, 'split_value': 344.3333435058594, 'left': {'feature_index': 5, 'split_value': 79447200.0, 'left': {'feature_index': 2, 'split_value': 331.6666564941406, 'left': 330.04111226399743, 'right': 341.5777757432726}, 'right': 347.3160637749566}, 'right': {'feature_index': 3, 'split_value': 387.64666748046875, 'left': 363.6372615269252, 'right': 392.2183303833008}}}}\n"
     ]
    }
   ],
   "source": [
    "print(my_tree_pro)"
   ]
  },
  {
   "cell_type": "code",
   "execution_count": 66,
   "metadata": {},
   "outputs": [
    {
     "data": {
      "image/png": "[encoded data removed]",
      "text/plain": [
       "<Figure size 400x300 with 1 Axes>"
      ]
     },
     "metadata": {},
     "output_type": "display_data"
    }
   ],
   "source": [
    "pre = creat_forecast(my_tree_pro, test_set)\n",
    "real = (test_set[:, -1].reshape(-1, 1))\n",
    "plt.plot(real, label='Real')\n",
    "plt.plot(pre, label='Predicted')\n",
    "plt.legend()\n",
    "plt.show()"
   ]
  }
 ],
 "metadata": {
  "kernelspec": {
   "display_name": "base",
   "language": "python",
   "name": "python3"
  },
  "language_info": {
   "codemirror_mode": {
    "name": "ipython",
    "version": 3
   },
   "file_extension": ".py",
   "mimetype": "text/x-python",
   "name": "python",
   "nbconvert_exporter": "python",
   "pygments_lexer": "ipython3",
   "version": "3.11.8"
  }
 },
 "nbformat": 4,
 "nbformat_minor": 2
}
