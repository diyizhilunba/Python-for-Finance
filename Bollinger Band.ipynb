{
 "cells": [
  {
   "cell_type": "code",
   "execution_count": 2,
   "metadata": {},
   "outputs": [],
   "source": [
    "import numpy as np\n",
    "import pandas as pd\n",
    "import matplotlib.pyplot as plt"
   ]
  },
  {
   "cell_type": "code",
   "execution_count": 3,
   "metadata": {},
   "outputs": [
    {
     "data": {
      "text/plain": [
       "'平安银行'"
      ]
     },
     "execution_count": 3,
     "metadata": {},
     "output_type": "execute_result"
    }
   ],
   "source": [
    "get_security_info('000001.XSHE').display_name "
   ]
  },
  {
   "cell_type": "code",
   "execution_count": 4,
   "metadata": {
    "code_folding": [],
    "scrolled": true
   },
   "outputs": [
    {
     "data": {
      "text/html": [
       "<div>\n",
       "<style scoped>\n",
       "    .dataframe tbody tr th:only-of-type {\n",
       "        vertical-align: middle;\n",
       "    }\n",
       "\n",
       "    .dataframe tbody tr th {\n",
       "        vertical-align: top;\n",
       "    }\n",
       "\n",
       "    .dataframe thead th {\n",
       "        text-align: right;\n",
       "    }\n",
       "</style>\n",
       "<table border=\"1\" class=\"dataframe\">\n",
       "  <thead>\n",
       "    <tr style=\"text-align: right;\">\n",
       "      <th></th>\n",
       "      <th>open</th>\n",
       "      <th>close</th>\n",
       "      <th>high</th>\n",
       "      <th>low</th>\n",
       "      <th>volume</th>\n",
       "      <th>money</th>\n",
       "    </tr>\n",
       "    <tr>\n",
       "      <th>date</th>\n",
       "      <th></th>\n",
       "      <th></th>\n",
       "      <th></th>\n",
       "      <th></th>\n",
       "      <th></th>\n",
       "      <th></th>\n",
       "    </tr>\n",
       "  </thead>\n",
       "  <tbody>\n",
       "    <tr>\n",
       "      <th>2016-02-01</th>\n",
       "      <td>7.36</td>\n",
       "      <td>7.23</td>\n",
       "      <td>7.39</td>\n",
       "      <td>7.19</td>\n",
       "      <td>56612207.0</td>\n",
       "      <td>4.126356e+08</td>\n",
       "    </tr>\n",
       "    <tr>\n",
       "      <th>2016-02-02</th>\n",
       "      <td>7.23</td>\n",
       "      <td>7.34</td>\n",
       "      <td>7.40</td>\n",
       "      <td>7.22</td>\n",
       "      <td>50022010.0</td>\n",
       "      <td>3.673605e+08</td>\n",
       "    </tr>\n",
       "    <tr>\n",
       "      <th>2016-02-03</th>\n",
       "      <td>7.27</td>\n",
       "      <td>7.27</td>\n",
       "      <td>7.30</td>\n",
       "      <td>7.21</td>\n",
       "      <td>37210775.0</td>\n",
       "      <td>2.699978e+08</td>\n",
       "    </tr>\n",
       "    <tr>\n",
       "      <th>2016-02-04</th>\n",
       "      <td>7.30</td>\n",
       "      <td>7.34</td>\n",
       "      <td>7.38</td>\n",
       "      <td>7.29</td>\n",
       "      <td>50563465.0</td>\n",
       "      <td>3.705862e+08</td>\n",
       "    </tr>\n",
       "    <tr>\n",
       "      <th>2016-02-05</th>\n",
       "      <td>7.35</td>\n",
       "      <td>7.32</td>\n",
       "      <td>7.36</td>\n",
       "      <td>7.31</td>\n",
       "      <td>36712210.0</td>\n",
       "      <td>2.691844e+08</td>\n",
       "    </tr>\n",
       "  </tbody>\n",
       "</table>\n",
       "</div>"
      ],
      "text/plain": [
       "            open  close  high   low      volume         money\n",
       "date                                                         \n",
       "2016-02-01  7.36   7.23  7.39  7.19  56612207.0  4.126356e+08\n",
       "2016-02-02  7.23   7.34  7.40  7.22  50022010.0  3.673605e+08\n",
       "2016-02-03  7.27   7.27  7.30  7.21  37210775.0  2.699978e+08\n",
       "2016-02-04  7.30   7.34  7.38  7.29  50563465.0  3.705862e+08\n",
       "2016-02-05  7.35   7.32  7.36  7.31  36712210.0  2.691844e+08"
      ]
     },
     "execution_count": 4,
     "metadata": {},
     "output_type": "execute_result"
    }
   ],
   "source": [
    "df = get_price('000001.XSHE', '2016-02-01', '2018-10-01',)\n",
    "df.index.name = 'date'\n",
    "df.head()"
   ]
  },
  {
   "cell_type": "code",
   "execution_count": 5,
   "metadata": {},
   "outputs": [],
   "source": [
    "period = 20\n",
    "#平均值\n",
    "df['sma'] = df['close'].rolling(period).mean()\n",
    "#标准差\n",
    "df['std'] = df['close'].rolling(period).std()\n",
    "\n",
    "#布林轨道上界\n",
    "df['upper'] = df['sma'] + (2 * df['std'])\n",
    "df['lower'] = df['sma'] - (2 * df['std'])\n",
    "\n",
    "#决定\n",
    "close_list = pd.to_numeric(df['close'],downcast='float')\n",
    "upper_list = pd.to_numeric(df['upper'],downcast='float')\n",
    "lower_list = pd.to_numeric(df['lower'],downcast='float')\n",
    "\n",
    "\n",
    "df['buy'] = np.where(close_list < lower_list, df['close'], np.NaN)\n",
    "df['sell'] = np.where(close_list > upper_list, df['close'], np.NaN)"
   ]
  },
  {
   "cell_type": "code",
   "execution_count": 6,
   "metadata": {
    "code_folding": []
   },
   "outputs": [],
   "source": [
    "df_buy = pd.to_numeric(df['buy'])\n",
    "df_sell = pd.to_numeric(df['sell'])\n",
    "df_index = df.index\n",
    "ls_order = []\n",
    "for i in range(len(df_buy)):\n",
    "    if np.isnan(df_buy[i]):\n",
    "        pass\n",
    "    else:\n",
    "        ls_order.append([df_index[i],'buy',df_buy[i],i])\n",
    "for i in range(len(df_sell)):\n",
    "    if np.isnan(df_sell[i]):\n",
    "        pass\n",
    "    else:\n",
    "        ls_order.append([df_index[i],'sell',df_sell[i],i])"
   ]
  },
  {
   "cell_type": "code",
   "execution_count": 7,
   "metadata": {
    "code_folding": []
   },
   "outputs": [],
   "source": [
    "ls_profit = []\n",
    "for one in ls_order:\n",
    "    i = one[3]\n",
    "    k_num = 7\n",
    "    try:\n",
    "        if one[1] == 'buy':\n",
    "            ls_profit.append(float(nklater(df,i,k_num))-one[2])\n",
    "        else:\n",
    "            ls_profit.append(one[2]-float(nklater(df,i,k_num)))\n",
    "    except:\n",
    "         pass   "
   ]
  },
  {
   "cell_type": "code",
   "execution_count": 8,
   "metadata": {},
   "outputs": [
    {
     "data": {
      "text/plain": [
       "[]"
      ]
     },
     "execution_count": 8,
     "metadata": {},
     "output_type": "execute_result"
    }
   ],
   "source": [
    "ls_profit"
   ]
  },
  {
   "cell_type": "code",
   "execution_count": 9,
   "metadata": {
    "code_folding": []
   },
   "outputs": [
    {
     "data": {
      "image/png": "[encoded data removed]",
      "text/plain": [
       "<Figure size 432x288 with 1 Axes>"
      ]
     },
     "metadata": {
      "needs_background": "light"
     },
     "output_type": "display_data"
    }
   ],
   "source": [
    "df = df.astype(float)\n",
    "df[['close','sma','upper','lower']].plot()\n",
    "plt.xlabel('Date',fontsize=18)\n",
    "\n",
    "plt.ylabel('Close price',fontsize=18)\n",
    "x_axis = df.index\n",
    "plt.fill_between(x_axis, df['lower'], df['upper'], color='grey', alpha=0.30)\n",
    "\n",
    "plt.scatter(df.index,df['buy'], color='red', label='Buy', marker='v', alpha=1)\n",
    "plt.scatter(df.index,df['sell'], color='blue', label='Sell', marker='^', alpha=1)\n",
    "   \n",
    "plt.show() "
   ]
  },
  {
   "cell_type": "code",
   "execution_count": null,
   "metadata": {},
   "outputs": [],
   "source": []
  },
  {
   "cell_type": "code",
   "execution_count": null,
   "metadata": {},
   "outputs": [],
   "source": []
  }
 ],
 "metadata": {
  "kernelspec": {
   "display_name": "Python 3",
   "language": "python",
   "name": "python3"
  },
  "language_info": {
   "codemirror_mode": {
    "name": "ipython",
    "version": 3
   },
   "file_extension": ".py",
   "mimetype": "text/x-python",
   "name": "python",
   "nbconvert_exporter": "python",
   "pygments_lexer": "ipython3",
   "version": "3.6.7"
  },
  "toc": {
   "base_numbering": 1,
   "nav_menu": {},
   "number_sections": false,
   "sideBar": true,
   "skip_h1_title": false,
   "title_cell": "MarkDown菜单",
   "title_sidebar": "Contents",
   "toc_cell": false,
   "toc_position": {},
   "toc_section_display": true,
   "toc_window_display": false
  }
 },
 "nbformat": 4,
 "nbformat_minor": 2
}
